{
 "cells": [
  {
   "cell_type": "code",
   "execution_count": 1,
   "metadata": {
    "collapsed": true,
    "pycharm": {
     "is_executing": false
    }
   },
   "outputs": [
    {
     "name": "stdout",
     "text": [
      "tensor([[7.1633e-39, 9.9184e-39, 9.0000e-39],\n        [1.0561e-38, 1.0653e-38, 4.1327e-39],\n        [8.9082e-39, 9.8265e-39, 9.4592e-39],\n        [1.0561e-38, 1.0653e-38, 1.0469e-38],\n        [9.5510e-39, 8.7245e-39, 1.0194e-38]])\n"
     ],
     "output_type": "stream"
    }
   ],
   "source": [
    "import torch\n",
    "\n",
    "torch_array = torch.empty(5, 3)\n",
    "print(torch_array)"
   ]
  },
  {
   "cell_type": "code",
   "execution_count": 3,
   "outputs": [
    {
     "name": "stdout",
     "text": [
      "tensor([[0.1139, 0.7852, 0.9114],\n        [0.2130, 0.9920, 0.5986],\n        [0.5605, 0.5696, 0.0325],\n        [0.0387, 0.6651, 0.1473],\n        [0.4038, 0.0484, 0.2668]])\n"
     ],
     "output_type": "stream"
    }
   ],
   "source": [
    "rand_torch_array = torch.rand(5, 3)\n",
    "print(rand_torch_array)"
   ],
   "metadata": {
    "collapsed": false,
    "pycharm": {
     "name": "#%%\n",
     "is_executing": false
    }
   }
  },
  {
   "cell_type": "code",
   "execution_count": 7,
   "outputs": [
    {
     "name": "stdout",
     "text": [
      "tensor([[0, 0, 0],\n        [0, 0, 0],\n        [0, 0, 0],\n        [0, 0, 0],\n        [0, 0, 0]])\n"
     ],
     "output_type": "stream"
    }
   ],
   "source": [
    "zeros_torch_array = torch.zeros(5, 3, dtype=torch.long)\n",
    "print(zeros_torch_array)"
   ],
   "metadata": {
    "collapsed": false,
    "pycharm": {
     "name": "#%%\n",
     "is_executing": false
    }
   }
  },
  {
   "cell_type": "code",
   "execution_count": 8,
   "outputs": [
    {
     "name": "stdout",
     "text": [
      "tensor([5.5000, 3.0000])\n"
     ],
     "output_type": "stream"
    }
   ],
   "source": [
    "tensor_torch_array = torch.tensor([5.5, 3])\n",
    "print(tensor_torch_array)\n"
   ],
   "metadata": {
    "collapsed": false,
    "pycharm": {
     "name": "#%%\n",
     "is_executing": false
    }
   }
  },
  {
   "cell_type": "code",
   "execution_count": 2,
   "outputs": [
    {
     "name": "stdout",
     "text": [
      "tensor([[1., 1.],\n        [1., 1.]], requires_grad=True)\ntensor([[3., 3.],\n        [3., 3.]], grad_fn=<AddBackward0>)",
      "\n<AddBackward0 object at 0x00000135AB93C848>\ntensor([[27., 27.],\n        [27., 27.]], grad_fn=<MulBackward0>)",
      " tensor(27., grad_fn=<MeanBackward0>)",
      "\n",
      "tensor([[4.5000, 4.5000],\n        [4.5000, 4.5000]])\n"
     ],
     "output_type": "stream"
    }
   ],
   "source": [
    "x = torch.ones(2, 2, requires_grad=True)\n",
    "print(x)\n",
    "y = x + 2\n",
    "print(y)\n",
    "print(y.grad_fn)\n",
    "z = y * y * 3\n",
    "out = z.mean()\n",
    "\n",
    "print(z, out)\n",
    "\n",
    "out.backward()\n",
    "print(x.grad)"
   ],
   "metadata": {
    "collapsed": false,
    "pycharm": {
     "name": "#%%\n",
     "is_executing": false
    }
   }
  },
  {
   "cell_type": "code",
   "execution_count": null,
   "outputs": [],
   "source": [
    "\n"
   ],
   "metadata": {
    "collapsed": false,
    "pycharm": {
     "name": "#%%\n"
    }
   }
  }
 ],
 "metadata": {
  "language_info": {
   "codemirror_mode": {
    "name": "ipython",
    "version": 2
   },
   "file_extension": ".py",
   "mimetype": "text/x-python",
   "name": "python",
   "nbconvert_exporter": "python",
   "pygments_lexer": "ipython2",
   "version": "2.7.6"
  },
  "kernelspec": {
   "name": "python3",
   "language": "python",
   "display_name": "Python 3"
  },
  "pycharm": {
   "stem_cell": {
    "cell_type": "raw",
    "source": [],
    "metadata": {
     "collapsed": false
    }
   }
  }
 },
 "nbformat": 4,
 "nbformat_minor": 0
}